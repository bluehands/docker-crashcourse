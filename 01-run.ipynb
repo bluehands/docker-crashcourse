{
 "cells": [
  {
   "attachments": {},
   "cell_type": "markdown",
   "metadata": {
    "dotnet_interactive": {
     "language": "pwsh"
    },
    "polyglot_notebook": {
     "kernelName": "pwsh"
    }
   },
   "source": [
    "# Getting Started\n",
    "\n",
    "## Requirements\n",
    "Before we can run and build docker images we first need to install docker. For this follow the relevant guide for your platform on the [docker website](https://docs.docker.com/engine/install/).\n",
    "\n",
    "## First steps\n",
    "After successfully installing docker you can check docker version with the command below. The command should return the installed docker version."
   ]
  },
  {
   "cell_type": "code",
   "execution_count": 1,
   "metadata": {
    "dotnet_interactive": {
     "language": "pwsh"
    },
    "polyglot_notebook": {
     "kernelName": "pwsh"
    },
    "vscode": {
     "languageId": "polyglot-notebook"
    }
   },
   "outputs": [
    {
     "name": "stdout",
     "output_type": "stream",
     "text": [
      "Docker version 20.10.21, build baeda1f\r\n"
     ]
    }
   ],
   "source": [
    "docker --version"
   ]
  },
  {
   "attachments": {},
   "cell_type": "markdown",
   "metadata": {
    "dotnet_interactive": {
     "language": "pwsh"
    },
    "polyglot_notebook": {
     "kernelName": "pwsh"
    }
   },
   "source": [
    "After verifying that docker is installed we can try to run our first image. This will download the image if not already cached locally and execute it showing a small hello world message."
   ]
  },
  {
   "cell_type": "code",
   "execution_count": 3,
   "metadata": {
    "dotnet_interactive": {
     "language": "pwsh"
    },
    "polyglot_notebook": {
     "kernelName": "pwsh"
    },
    "vscode": {
     "languageId": "polyglot-notebook"
    }
   },
   "outputs": [
    {
     "name": "stdout",
     "output_type": "stream",
     "text": [
      "\n",
      "Hello from Docker!\n",
      "This message shows that your installation appears to be working correctly.\n",
      "\n",
      "To generate this message, Docker took the following steps:\n",
      " 1. The Docker client contacted the Docker daemon.\n",
      " 2. The Docker daemon pulled the \"hello-world\" image from the Docker Hub.\n",
      "    (amd64)\n",
      " 3. The Docker daemon created a new container from that image which runs the\n",
      "    executable that produces the output you are currently reading.\n",
      " 4. The Docker daemon streamed that output to the Docker client, which sent it\n",
      "    to your terminal.\n",
      "\n",
      "To try something more ambitious, you can run an Ubuntu container with:\n",
      " $ docker run -it ubuntu bash\n",
      "\n",
      "Share images, automate workflows, and more with a free Docker ID:\n",
      " https://hub.docker.com/\n",
      "\n",
      "For more examples and ideas, visit:\n",
      " https://docs.docker.com/get-started/\n",
      "\n"
     ]
    }
   ],
   "source": [
    "docker run --name hello-world hello-world:latest"
   ]
  },
  {
   "attachments": {},
   "cell_type": "markdown",
   "metadata": {
    "dotnet_interactive": {
     "language": "pwsh"
    },
    "polyglot_notebook": {
     "kernelName": "pwsh"
    }
   },
   "source": [
    "The container should have executed successfully now and be stopped. You can check that this container is stopped by listing all containers."
   ]
  },
  {
   "cell_type": "code",
   "execution_count": 4,
   "metadata": {
    "dotnet_interactive": {
     "language": "pwsh"
    },
    "polyglot_notebook": {
     "kernelName": "pwsh"
    },
    "vscode": {
     "languageId": "polyglot-notebook"
    }
   },
   "outputs": [
    {
     "name": "stdout",
     "output_type": "stream",
     "text": [
      "CONTAINER ID   IMAGE                           COMMAND       CREATED         STATUS                     PORTS     NAMES\n",
      "7e95fb635b55   hello-world:latest              \"/hello\"      5 minutes ago   Exited (0) 5 minutes ago             hello-world\n",
      "f9c913a05230   moby/buildkit:buildx-stable-1   \"buildkitd\"   5 months ago    Exited (255) 2 days ago              buildx_buildkit_multiarch\n",
      "19b6a9d7fa57   coding-space_coding-space       \"/init\"       5 months ago    Exited (0) 5 months ago              coding-space-coding-space-1\n"
     ]
    }
   ],
   "source": [
    "docker container ls -a"
   ]
  },
  {
   "attachments": {},
   "cell_type": "markdown",
   "metadata": {
    "dotnet_interactive": {
     "language": "pwsh"
    },
    "polyglot_notebook": {
     "kernelName": "pwsh"
    }
   },
   "source": [
    "Here you should now see a stopped container named \"hello-world\" as the command above set this as the containers name. Now with this name you can remove the container."
   ]
  },
  {
   "cell_type": "code",
   "execution_count": 5,
   "metadata": {
    "dotnet_interactive": {
     "language": "pwsh"
    },
    "polyglot_notebook": {
     "kernelName": "pwsh"
    },
    "vscode": {
     "languageId": "polyglot-notebook"
    }
   },
   "outputs": [
    {
     "name": "stdout",
     "output_type": "stream",
     "text": [
      "hello-world\r\n"
     ]
    }
   ],
   "source": [
    "docker container rm hello-world"
   ]
  },
  {
   "attachments": {},
   "cell_type": "markdown",
   "metadata": {
    "dotnet_interactive": {
     "language": "pwsh"
    },
    "polyglot_notebook": {
     "kernelName": "pwsh"
    }
   },
   "source": [
    "The container should now be removed and you can check again by listing all containers."
   ]
  },
  {
   "cell_type": "code",
   "execution_count": 6,
   "metadata": {
    "dotnet_interactive": {
     "language": "pwsh"
    },
    "polyglot_notebook": {
     "kernelName": "pwsh"
    },
    "vscode": {
     "languageId": "polyglot-notebook"
    }
   },
   "outputs": [
    {
     "name": "stdout",
     "output_type": "stream",
     "text": [
      "CONTAINER ID   IMAGE                           COMMAND       CREATED        STATUS                    PORTS     NAMES\n",
      "f9c913a05230   moby/buildkit:buildx-stable-1   \"buildkitd\"   5 months ago   Exited (255) 2 days ago             buildx_buildkit_multiarch\n",
      "19b6a9d7fa57   coding-space_coding-space       \"/init\"       5 months ago   Exited (0) 5 months ago             coding-space-coding-space-1\n"
     ]
    }
   ],
   "source": [
    "docker container ls -a"
   ]
  },
  {
   "attachments": {},
   "cell_type": "markdown",
   "metadata": {
    "dotnet_interactive": {
     "language": "pwsh"
    },
    "polyglot_notebook": {
     "kernelName": "pwsh"
    }
   },
   "source": [
    "You just deleted the container but the image used to create this container is still installed as you might create a new container with the same image or build one of your own on top of it. You check that the image is still installed with this command."
   ]
  },
  {
   "cell_type": "code",
   "execution_count": 7,
   "metadata": {
    "dotnet_interactive": {
     "language": "pwsh"
    },
    "polyglot_notebook": {
     "kernelName": "pwsh"
    },
    "vscode": {
     "languageId": "polyglot-notebook"
    }
   },
   "outputs": [
    {
     "name": "stdout",
     "output_type": "stream",
     "text": [
      "REPOSITORY                                                TAG               IMAGE ID       CREATED         SIZE\n",
      "our-app                                                   latest            93b8a5e30036   46 hours ago    77.8MB\n",
      "<none>                                                    <none>            e89ba37a0de1   46 hours ago    77.8MB\n",
      "<none>                                                    <none>            60c03e8028d0   46 hours ago    77.8MB\n",
      "<none>                                                    <none>            0cbd73129b2f   2 days ago      194MB\n",
      "<none>                                                    <none>            88ec48144c87   2 weeks ago     405MB\n",
      "<none>                                                    <none>            c8f221b60702   5 weeks ago     77.8MB\n",
      "registry.dark-link.info/punzeldev/unity                   2021.3.11f1       f2e3f54f5746   3 months ago    20.9GB\n",
      "<none>                                                    <none>            28a16743cc7c   3 months ago    20.9GB\n",
      "vsc-dactyl-manuform-a2ed6be01bc07a09ea43f93eb05f7002      latest            db41829861e2   4 months ago    1.69GB\n",
      "vsc-customergokeyboard-a6c9f8d1545dc5d22a7a0379db7f5420   latest            31d67b5848a5   4 months ago    1.69GB\n",
      "qmkfm/qmk_cli                                             latest            ee012cc50a82   4 months ago    2.33GB\n",
      "rclone/rclone                                             latest            1fca596a2789   5 months ago    53.2MB\n",
      "coding-space_coding-space                                 latest            0f3bd82d16a9   5 months ago    707MB\n",
      "moby/buildkit                                             buildx-stable-1   a2c9241854f2   8 months ago    142MB\n",
      "wiiplayer2/ci-helmfile                                    latest            a9020d736daa   10 months ago   415MB\n",
      "hello-world                                               latest            feb5d9fea6a5   16 months ago   13.3kB\n"
     ]
    }
   ],
   "source": [
    "docker image ls"
   ]
  }
 ],
 "metadata": {
  "kernelspec": {
   "display_name": ".NET (C#)",
   "language": "C#",
   "name": ".net-csharp"
  },
  "polyglot_notebook": {
   "kernelInfo": {
    "defaultKernelName": "csharp",
    "items": [
     {
      "aliases": [
       "c#",
       "C#"
      ],
      "languageName": "C#",
      "name": "csharp"
     },
     {
      "aliases": [],
      "name": ".NET"
     },
     {
      "aliases": [
       "f#",
       "F#"
      ],
      "languageName": "F#",
      "name": "fsharp"
     },
     {
      "aliases": [],
      "languageName": "HTML",
      "name": "html"
     },
     {
      "aliases": [
       "js"
      ],
      "languageName": "JavaScript",
      "name": "javascript"
     },
     {
      "aliases": [],
      "languageName": "KQL",
      "name": "kql"
     },
     {
      "aliases": [],
      "languageName": "Mermaid",
      "name": "mermaid"
     },
     {
      "aliases": [
       "powershell"
      ],
      "languageName": "PowerShell",
      "name": "pwsh"
     },
     {
      "aliases": [],
      "languageName": "SQL",
      "name": "sql"
     },
     {
      "aliases": [],
      "name": "value"
     },
     {
      "aliases": [
       "frontend"
      ],
      "name": "vscode"
     },
     {
      "aliases": [],
      "name": "webview"
     }
    ]
   }
  }
 },
 "nbformat": 4,
 "nbformat_minor": 2
}
