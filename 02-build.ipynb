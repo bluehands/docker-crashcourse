{
 "cells": [
  {
   "cell_type": "code",
   "execution_count": null,
   "metadata": {
    "dotnet_interactive": {
     "language": "pwsh"
    },
    "polyglot_notebook": {
     "kernelName": "pwsh"
    }
   },
   "outputs": [],
   "source": [
    "docker build ./app"
   ]
  },
  {
   "cell_type": "code",
   "execution_count": null,
   "metadata": {
    "dotnet_interactive": {
     "language": "pwsh"
    },
    "polyglot_notebook": {
     "kernelName": "pwsh"
    }
   },
   "outputs": [],
   "source": [
    "docker build -f ./app/Dockerfile2 ./app"
   ]
  },
  {
   "cell_type": "code",
   "execution_count": 7,
   "metadata": {
    "dotnet_interactive": {
     "language": "pwsh"
    },
    "polyglot_notebook": {
     "kernelName": "pwsh"
    }
   },
   "outputs": [
    {
     "name": "stdout",
     "output_type": "stream",
     "text": [
      "\u001b[31;1m#1 [internal] load build definition from Dockerfile\u001b[0m\n",
      "\u001b[31;1m#1 sha256:96ea9b04e52e9b1eadf4b73f9640a77bacb90245b1884ac94560f962cdc98d19\u001b[0m\n",
      "\u001b[31;1m#1 transferring dockerfile: 31B done\u001b[0m\n",
      "\u001b[31;1m#1 DONE 0.0s\u001b[0m\n",
      "\u001b[31;1m\u001b[0m\n",
      "\u001b[31;1m#2 [internal] load .dockerignore\u001b[0m\n",
      "\u001b[31;1m#2 sha256:edc9505c88285977437e5f0a08892ff307dac3d7912fc1bf65353a5f48bc2b86\u001b[0m\n",
      "\u001b[31;1m#2 transferring context: 2B done\u001b[0m\n",
      "\u001b[31;1m#2 DONE 0.0s\u001b[0m\n",
      "\u001b[31;1m\u001b[0m\n",
      "\u001b[31;1m#3 [internal] load metadata for docker.io/library/ubuntu:22.04\u001b[0m\n",
      "\u001b[31;1m#3 sha256:c98673cf9ef937b1780d76523bbd6cd77884d860bede4bf0d006ae7d8201e8a5\u001b[0m\n",
      "\u001b[31;1m#3 DONE 0.5s\u001b[0m\n",
      "\u001b[31;1m\u001b[0m\n",
      "\u001b[31;1m#6 [1/2] FROM docker.io/library/ubuntu:22.04@sha256:27cb6e6ccef575a4698b66f5de06c7ecd61589132d5a91d098f7f3f9285415a9\u001b[0m\n",
      "\u001b[31;1m#6 sha256:cfc3280f5d35135909dec42f3f85b5c5df31137b24b42247a6ec87fa9805fd78\u001b[0m\n",
      "\u001b[31;1m#6 DONE 0.0s\u001b[0m\n",
      "\u001b[31;1m\u001b[0m\n",
      "\u001b[31;1m#5 [internal] load build context\u001b[0m\n",
      "\u001b[31;1m#5 sha256:08c48023dba9d921faf5969b14c5fc6ba97556c8fbccfcd3389583a1d8ce0bdb\u001b[0m\n",
      "\u001b[31;1m#5 transferring context: 48B done\u001b[0m\n",
      "\u001b[31;1m#5 DONE 0.0s\u001b[0m\n",
      "\u001b[31;1m\u001b[0m\n",
      "\u001b[31;1m#6 [1/2] FROM docker.io/library/ubuntu:22.04@sha256:27cb6e6ccef575a4698b66f5de06c7ecd61589132d5a91d098f7f3f9285415a9\u001b[0m\n",
      "\u001b[31;1m#6 sha256:cfc3280f5d35135909dec42f3f85b5c5df31137b24b42247a6ec87fa9805fd78\u001b[0m\n",
      "\u001b[31;1m#6 CACHED\u001b[0m\n",
      "\u001b[31;1m\u001b[0m\n",
      "\u001b[31;1m#4 [2/2] COPY ./text.txt /text.txt\u001b[0m\n",
      "\u001b[31;1m#4 sha256:c3331639b72ec3e0a74bb9cff6adeb524355d5357e4f22c7048e7caebec7d6b2\u001b[0m\n",
      "\u001b[31;1m#4 DONE 0.0s\u001b[0m\n",
      "\u001b[31;1m\u001b[0m\n",
      "\u001b[31;1m#7 exporting to image\u001b[0m\n",
      "\u001b[31;1m#7 sha256:e8c613e07b0b7ff33893b694f7759a10d42e180f2b4dc349fb57dc6b71dcab00\u001b[0m\n",
      "\u001b[31;1m#7 exporting layers 0.0s done\u001b[0m\n",
      "\u001b[31;1m#7 writing image sha256:93b8a5e3003666f72fd26047e562405a070e69a3856dc025b4348837814712bb\u001b[0m\n",
      "\u001b[31;1m#7 writing image sha256:93b8a5e3003666f72fd26047e562405a070e69a3856dc025b4348837814712bb done\u001b[0m\n",
      "\u001b[31;1m#7 naming to docker.io/library/our-app:latest done\u001b[0m\n",
      "\u001b[31;1m#7 DONE 0.1s\u001b[0m\n",
      "\u001b[31;1m\u001b[0m\n",
      "\u001b[31;1mUse 'docker scan' to run Snyk tests against images to find vulnerabilities and learn how to fix them\u001b[0m\n"
     ]
    }
   ],
   "source": [
    "docker build -t our-app:latest ./app"
   ]
  },
  {
   "cell_type": "code",
   "execution_count": 8,
   "metadata": {
    "dotnet_interactive": {
     "language": "pwsh"
    },
    "polyglot_notebook": {
     "kernelName": "pwsh"
    }
   },
   "outputs": [
    {
     "name": "stdout",
     "output_type": "stream",
     "text": [
      "henlo\n",
      "dere\n"
     ]
    }
   ],
   "source": [
    "docker run --rm our-app:latest"
   ]
  }
 ],
 "metadata": {
  "kernelspec": {
   "display_name": ".NET (C#)",
   "language": "C#",
   "name": ".net-csharp"
  },
  "polyglot_notebook": {
   "kernelInfo": {
    "defaultKernelName": "csharp",
    "items": [
     {
      "aliases": [],
      "name": "csharp"
     }
    ]
   }
  }
 },
 "nbformat": 4,
 "nbformat_minor": 2
}
